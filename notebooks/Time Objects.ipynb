{
 "cells": [
  {
   "cell_type": "markdown",
   "metadata": {
    "collapsed": true
   },
   "source": [
    "# Let me know if you have questions!!!"
   ]
  },
  {
   "cell_type": "code",
   "execution_count": 1,
   "metadata": {
    "collapsed": false
   },
   "outputs": [
    {
     "name": "stdout",
     "output_type": "stream",
     "text": [
      "time.struct_time(tm_year=2016, tm_mon=4, tm_mday=6, tm_hour=10, tm_min=59, tm_sec=6, tm_wday=2, tm_yday=97, tm_isdst=1) \n",
      "\n",
      "Wed, April 04/06/16 2016 10:59:06\n"
     ]
    }
   ],
   "source": [
    "import time\n",
    "\n",
    "#prints the local time as a struct_time object (a named tuple)\n",
    "print(time.localtime(), '\\n')\n",
    "\n",
    "#prints the local time as a formatted string\n",
    "print(time.strftime(\"%a, %B %D %Y %H:%M:%S\", time.localtime()))"
   ]
  },
  {
   "cell_type": "code",
   "execution_count": null,
   "metadata": {
    "collapsed": true
   },
   "outputs": [],
   "source": []
  }
 ],
 "metadata": {
  "kernelspec": {
   "display_name": "Python 3",
   "language": "python",
   "name": "python3"
  },
  "language_info": {
   "codemirror_mode": {
    "name": "ipython",
    "version": 3
   },
   "file_extension": ".py",
   "mimetype": "text/x-python",
   "name": "python",
   "nbconvert_exporter": "python",
   "pygments_lexer": "ipython3",
   "version": "3.4.4"
  }
 },
 "nbformat": 4,
 "nbformat_minor": 0
}
